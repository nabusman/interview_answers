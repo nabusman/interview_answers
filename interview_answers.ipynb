{
 "cells": [
  {
   "cell_type": "code",
   "execution_count": 1,
   "metadata": {},
   "outputs": [],
   "source": [
    "import pandas as pd\n",
    "import matplotlib.pyplot as plt\n",
    "from sklearn.model_selection import train_test_split\n",
    "from sklearn.linear_model import LogisticRegression\n",
    "from sklearn.metrics import classification_report"
   ]
  },
  {
   "cell_type": "markdown",
   "metadata": {},
   "source": [
    "# Data Exploration and Evaluation\n",
    "\n",
    "__For this project, please use the following columns:\n",
    "‘loan_amnt’, ‘funded_amnt’, ‘term’, ‘int_rate’, ‘grade’, ‘annual_inc’, ‘issue_d’, ‘dti’, ‘revol_bal’, ‘total_pymnt’, ‘loan_status’\n",
    "Load the data, select the relevant columns, and perform any necessary cleaning and aggregations to explore and better understand the dataset. Describe any assumptions you made to handle null variables and outliers. Describe the distributions of the features. Include two data visualizations and two summary statistics to support these findings.__"
   ]
  },
  {
   "cell_type": "code",
   "execution_count": 2,
   "metadata": {},
   "outputs": [],
   "source": [
    "df = pd.read_csv('../loan.csv', low_memory=False)[['loan_amnt', 'funded_amnt', 'term', 'int_rate', 'grade', 'annual_inc', 'issue_d', 'dti', 'revol_bal', 'total_pymnt', 'loan_status']]"
   ]
  },
  {
   "cell_type": "code",
   "execution_count": 3,
   "metadata": {},
   "outputs": [
    {
     "data": {
      "text/html": [
       "<div>\n",
       "<style scoped>\n",
       "    .dataframe tbody tr th:only-of-type {\n",
       "        vertical-align: middle;\n",
       "    }\n",
       "\n",
       "    .dataframe tbody tr th {\n",
       "        vertical-align: top;\n",
       "    }\n",
       "\n",
       "    .dataframe thead th {\n",
       "        text-align: right;\n",
       "    }\n",
       "</style>\n",
       "<table border=\"1\" class=\"dataframe\">\n",
       "  <thead>\n",
       "    <tr style=\"text-align: right;\">\n",
       "      <th></th>\n",
       "      <th>loan_amnt</th>\n",
       "      <th>funded_amnt</th>\n",
       "      <th>term</th>\n",
       "      <th>int_rate</th>\n",
       "      <th>grade</th>\n",
       "      <th>annual_inc</th>\n",
       "      <th>issue_d</th>\n",
       "      <th>dti</th>\n",
       "      <th>revol_bal</th>\n",
       "      <th>total_pymnt</th>\n",
       "      <th>loan_status</th>\n",
       "    </tr>\n",
       "  </thead>\n",
       "  <tbody>\n",
       "    <tr>\n",
       "      <th>0</th>\n",
       "      <td>5000.0</td>\n",
       "      <td>5000.0</td>\n",
       "      <td>36 months</td>\n",
       "      <td>10.65</td>\n",
       "      <td>B</td>\n",
       "      <td>24000.0</td>\n",
       "      <td>Dec-2011</td>\n",
       "      <td>27.65</td>\n",
       "      <td>13648.0</td>\n",
       "      <td>5861.071414</td>\n",
       "      <td>Fully Paid</td>\n",
       "    </tr>\n",
       "    <tr>\n",
       "      <th>1</th>\n",
       "      <td>2500.0</td>\n",
       "      <td>2500.0</td>\n",
       "      <td>60 months</td>\n",
       "      <td>15.27</td>\n",
       "      <td>C</td>\n",
       "      <td>30000.0</td>\n",
       "      <td>Dec-2011</td>\n",
       "      <td>1.00</td>\n",
       "      <td>1687.0</td>\n",
       "      <td>1008.710000</td>\n",
       "      <td>Charged Off</td>\n",
       "    </tr>\n",
       "    <tr>\n",
       "      <th>2</th>\n",
       "      <td>2400.0</td>\n",
       "      <td>2400.0</td>\n",
       "      <td>36 months</td>\n",
       "      <td>15.96</td>\n",
       "      <td>C</td>\n",
       "      <td>12252.0</td>\n",
       "      <td>Dec-2011</td>\n",
       "      <td>8.72</td>\n",
       "      <td>2956.0</td>\n",
       "      <td>3003.653644</td>\n",
       "      <td>Fully Paid</td>\n",
       "    </tr>\n",
       "    <tr>\n",
       "      <th>3</th>\n",
       "      <td>10000.0</td>\n",
       "      <td>10000.0</td>\n",
       "      <td>36 months</td>\n",
       "      <td>13.49</td>\n",
       "      <td>C</td>\n",
       "      <td>49200.0</td>\n",
       "      <td>Dec-2011</td>\n",
       "      <td>20.00</td>\n",
       "      <td>5598.0</td>\n",
       "      <td>12226.302212</td>\n",
       "      <td>Fully Paid</td>\n",
       "    </tr>\n",
       "    <tr>\n",
       "      <th>4</th>\n",
       "      <td>3000.0</td>\n",
       "      <td>3000.0</td>\n",
       "      <td>60 months</td>\n",
       "      <td>12.69</td>\n",
       "      <td>B</td>\n",
       "      <td>80000.0</td>\n",
       "      <td>Dec-2011</td>\n",
       "      <td>17.94</td>\n",
       "      <td>27783.0</td>\n",
       "      <td>3242.170000</td>\n",
       "      <td>Current</td>\n",
       "    </tr>\n",
       "  </tbody>\n",
       "</table>\n",
       "</div>"
      ],
      "text/plain": [
       "   loan_amnt  funded_amnt        term  int_rate grade  annual_inc   issue_d  \\\n",
       "0     5000.0       5000.0   36 months     10.65     B     24000.0  Dec-2011   \n",
       "1     2500.0       2500.0   60 months     15.27     C     30000.0  Dec-2011   \n",
       "2     2400.0       2400.0   36 months     15.96     C     12252.0  Dec-2011   \n",
       "3    10000.0      10000.0   36 months     13.49     C     49200.0  Dec-2011   \n",
       "4     3000.0       3000.0   60 months     12.69     B     80000.0  Dec-2011   \n",
       "\n",
       "     dti  revol_bal   total_pymnt  loan_status  \n",
       "0  27.65    13648.0   5861.071414   Fully Paid  \n",
       "1   1.00     1687.0   1008.710000  Charged Off  \n",
       "2   8.72     2956.0   3003.653644   Fully Paid  \n",
       "3  20.00     5598.0  12226.302212   Fully Paid  \n",
       "4  17.94    27783.0   3242.170000      Current  "
      ]
     },
     "execution_count": 3,
     "metadata": {},
     "output_type": "execute_result"
    }
   ],
   "source": [
    "df.head()"
   ]
  },
  {
   "cell_type": "code",
   "execution_count": 4,
   "metadata": {},
   "outputs": [
    {
     "name": "stdout",
     "output_type": "stream",
     "text": [
      "<class 'pandas.core.frame.DataFrame'>\n",
      "RangeIndex: 887379 entries, 0 to 887378\n",
      "Data columns (total 11 columns):\n",
      "loan_amnt      887379 non-null float64\n",
      "funded_amnt    887379 non-null float64\n",
      "term           887379 non-null object\n",
      "int_rate       887379 non-null float64\n",
      "grade          887379 non-null object\n",
      "annual_inc     887375 non-null float64\n",
      "issue_d        887379 non-null object\n",
      "dti            887379 non-null float64\n",
      "revol_bal      887379 non-null float64\n",
      "total_pymnt    887379 non-null float64\n",
      "loan_status    887379 non-null object\n",
      "dtypes: float64(7), object(4)\n",
      "memory usage: 74.5+ MB\n"
     ]
    }
   ],
   "source": [
    "df.info()"
   ]
  },
  {
   "cell_type": "code",
   "execution_count": 5,
   "metadata": {},
   "outputs": [],
   "source": [
    "# We keep track of the numerical and categorical columns, to be used later\n",
    "numerical_cols = ['loan_amnt', 'funded_amnt', 'int_rate', 'annual_inc', 'dti', 'revol_bal', 'total_pymnt']\n",
    "categorical_cols = ['term', 'grade', 'issue_d', 'loan_status']"
   ]
  },
  {
   "cell_type": "markdown",
   "metadata": {},
   "source": [
    "The `annual_inc` column contains 4 missing values. This is a rather small amount and it probably makes sense to simply drop these rows, however, before we do that we want to ensure that the missing values look \"normal\" (as opposed to have a meaning such as values being too high or too low)."
   ]
  },
  {
   "cell_type": "code",
   "execution_count": 6,
   "metadata": {},
   "outputs": [
    {
     "data": {
      "text/plain": [
       "loan_amnt       8000.00\n",
       "funded_amnt     8000.00\n",
       "int_rate           9.99\n",
       "annual_inc     45000.00\n",
       "dti               11.91\n",
       "revol_bal       6443.00\n",
       "total_pymnt     1914.59\n",
       "Name: 0.25, dtype: float64"
      ]
     },
     "execution_count": 6,
     "metadata": {},
     "output_type": "execute_result"
    }
   ],
   "source": [
    "df.quantile(0.25)"
   ]
  },
  {
   "cell_type": "code",
   "execution_count": 7,
   "metadata": {},
   "outputs": [
    {
     "data": {
      "text/plain": [
       "loan_amnt      20000.000000\n",
       "funded_amnt    20000.000000\n",
       "int_rate          16.200000\n",
       "annual_inc     90000.000000\n",
       "dti               23.950000\n",
       "revol_bal      20829.000000\n",
       "total_pymnt    10616.814231\n",
       "Name: 0.75, dtype: float64"
      ]
     },
     "execution_count": 7,
     "metadata": {},
     "output_type": "execute_result"
    }
   ],
   "source": [
    "df.quantile(0.75)"
   ]
  },
  {
   "cell_type": "code",
   "execution_count": 8,
   "metadata": {},
   "outputs": [
    {
     "data": {
      "text/html": [
       "<div>\n",
       "<style scoped>\n",
       "    .dataframe tbody tr th:only-of-type {\n",
       "        vertical-align: middle;\n",
       "    }\n",
       "\n",
       "    .dataframe tbody tr th {\n",
       "        vertical-align: top;\n",
       "    }\n",
       "\n",
       "    .dataframe thead th {\n",
       "        text-align: right;\n",
       "    }\n",
       "</style>\n",
       "<table border=\"1\" class=\"dataframe\">\n",
       "  <thead>\n",
       "    <tr style=\"text-align: right;\">\n",
       "      <th></th>\n",
       "      <th>loan_amnt</th>\n",
       "      <th>funded_amnt</th>\n",
       "      <th>term</th>\n",
       "      <th>int_rate</th>\n",
       "      <th>grade</th>\n",
       "      <th>annual_inc</th>\n",
       "      <th>issue_d</th>\n",
       "      <th>dti</th>\n",
       "      <th>revol_bal</th>\n",
       "      <th>total_pymnt</th>\n",
       "      <th>loan_status</th>\n",
       "    </tr>\n",
       "  </thead>\n",
       "  <tbody>\n",
       "    <tr>\n",
       "      <th>42449</th>\n",
       "      <td>5000.0</td>\n",
       "      <td>5000.0</td>\n",
       "      <td>36 months</td>\n",
       "      <td>7.43</td>\n",
       "      <td>A</td>\n",
       "      <td>NaN</td>\n",
       "      <td>Aug-2007</td>\n",
       "      <td>1.0</td>\n",
       "      <td>0.0</td>\n",
       "      <td>5593.46</td>\n",
       "      <td>Does not meet the credit policy. Status:Fully ...</td>\n",
       "    </tr>\n",
       "    <tr>\n",
       "      <th>42450</th>\n",
       "      <td>7000.0</td>\n",
       "      <td>7000.0</td>\n",
       "      <td>36 months</td>\n",
       "      <td>7.75</td>\n",
       "      <td>A</td>\n",
       "      <td>NaN</td>\n",
       "      <td>Aug-2007</td>\n",
       "      <td>1.0</td>\n",
       "      <td>0.0</td>\n",
       "      <td>7867.53</td>\n",
       "      <td>Does not meet the credit policy. Status:Fully ...</td>\n",
       "    </tr>\n",
       "    <tr>\n",
       "      <th>42480</th>\n",
       "      <td>6700.0</td>\n",
       "      <td>6700.0</td>\n",
       "      <td>36 months</td>\n",
       "      <td>7.75</td>\n",
       "      <td>A</td>\n",
       "      <td>NaN</td>\n",
       "      <td>Jul-2007</td>\n",
       "      <td>1.0</td>\n",
       "      <td>0.0</td>\n",
       "      <td>7530.42</td>\n",
       "      <td>Does not meet the credit policy. Status:Fully ...</td>\n",
       "    </tr>\n",
       "    <tr>\n",
       "      <th>42533</th>\n",
       "      <td>6500.0</td>\n",
       "      <td>6500.0</td>\n",
       "      <td>36 months</td>\n",
       "      <td>8.38</td>\n",
       "      <td>A</td>\n",
       "      <td>NaN</td>\n",
       "      <td>Jun-2007</td>\n",
       "      <td>4.0</td>\n",
       "      <td>0.0</td>\n",
       "      <td>7373.83</td>\n",
       "      <td>Does not meet the credit policy. Status:Fully ...</td>\n",
       "    </tr>\n",
       "  </tbody>\n",
       "</table>\n",
       "</div>"
      ],
      "text/plain": [
       "       loan_amnt  funded_amnt        term  int_rate grade  annual_inc  \\\n",
       "42449     5000.0       5000.0   36 months      7.43     A         NaN   \n",
       "42450     7000.0       7000.0   36 months      7.75     A         NaN   \n",
       "42480     6700.0       6700.0   36 months      7.75     A         NaN   \n",
       "42533     6500.0       6500.0   36 months      8.38     A         NaN   \n",
       "\n",
       "        issue_d  dti  revol_bal  total_pymnt  \\\n",
       "42449  Aug-2007  1.0        0.0      5593.46   \n",
       "42450  Aug-2007  1.0        0.0      7867.53   \n",
       "42480  Jul-2007  1.0        0.0      7530.42   \n",
       "42533  Jun-2007  4.0        0.0      7373.83   \n",
       "\n",
       "                                             loan_status  \n",
       "42449  Does not meet the credit policy. Status:Fully ...  \n",
       "42450  Does not meet the credit policy. Status:Fully ...  \n",
       "42480  Does not meet the credit policy. Status:Fully ...  \n",
       "42533  Does not meet the credit policy. Status:Fully ...  "
      ]
     },
     "execution_count": 8,
     "metadata": {},
     "output_type": "execute_result"
    }
   ],
   "source": [
    "df[df['annual_inc'].isnull()]"
   ]
  },
  {
   "cell_type": "markdown",
   "metadata": {},
   "source": [
    "By looking at the numbers it seems that the loan amounts are quite low for all four of these cases, also it looks like the `dti` column seems off as well, hence that data doesn't look to be significant and is dropped."
   ]
  },
  {
   "cell_type": "code",
   "execution_count": 9,
   "metadata": {},
   "outputs": [],
   "source": [
    "df = df[df['annual_inc'].isnull() == False]"
   ]
  },
  {
   "cell_type": "code",
   "execution_count": 10,
   "metadata": {
    "scrolled": false
   },
   "outputs": [
    {
     "data": {
      "text/html": [
       "<div>\n",
       "<style scoped>\n",
       "    .dataframe tbody tr th:only-of-type {\n",
       "        vertical-align: middle;\n",
       "    }\n",
       "\n",
       "    .dataframe tbody tr th {\n",
       "        vertical-align: top;\n",
       "    }\n",
       "\n",
       "    .dataframe thead th {\n",
       "        text-align: right;\n",
       "    }\n",
       "</style>\n",
       "<table border=\"1\" class=\"dataframe\">\n",
       "  <thead>\n",
       "    <tr style=\"text-align: right;\">\n",
       "      <th></th>\n",
       "      <th>loan_amnt</th>\n",
       "      <th>funded_amnt</th>\n",
       "      <th>int_rate</th>\n",
       "      <th>annual_inc</th>\n",
       "      <th>dti</th>\n",
       "      <th>revol_bal</th>\n",
       "      <th>total_pymnt</th>\n",
       "    </tr>\n",
       "  </thead>\n",
       "  <tbody>\n",
       "    <tr>\n",
       "      <th>count</th>\n",
       "      <td>887375.000000</td>\n",
       "      <td>887375.000000</td>\n",
       "      <td>887375.000000</td>\n",
       "      <td>8.873750e+05</td>\n",
       "      <td>887375.000000</td>\n",
       "      <td>8.873750e+05</td>\n",
       "      <td>887375.000000</td>\n",
       "    </tr>\n",
       "    <tr>\n",
       "      <th>mean</th>\n",
       "      <td>14755.302719</td>\n",
       "      <td>14741.915678</td>\n",
       "      <td>13.246764</td>\n",
       "      <td>7.502759e+04</td>\n",
       "      <td>18.157113</td>\n",
       "      <td>1.692086e+04</td>\n",
       "      <td>7558.828791</td>\n",
       "    </tr>\n",
       "    <tr>\n",
       "      <th>std</th>\n",
       "      <td>8435.455353</td>\n",
       "      <td>8429.897444</td>\n",
       "      <td>4.381862</td>\n",
       "      <td>6.469830e+04</td>\n",
       "      <td>17.190629</td>\n",
       "      <td>2.242681e+04</td>\n",
       "      <td>7871.260790</td>\n",
       "    </tr>\n",
       "    <tr>\n",
       "      <th>min</th>\n",
       "      <td>500.000000</td>\n",
       "      <td>500.000000</td>\n",
       "      <td>5.320000</td>\n",
       "      <td>0.000000e+00</td>\n",
       "      <td>0.000000</td>\n",
       "      <td>0.000000e+00</td>\n",
       "      <td>0.000000</td>\n",
       "    </tr>\n",
       "    <tr>\n",
       "      <th>25%</th>\n",
       "      <td>8000.000000</td>\n",
       "      <td>8000.000000</td>\n",
       "      <td>9.990000</td>\n",
       "      <td>4.500000e+04</td>\n",
       "      <td>11.910000</td>\n",
       "      <td>6.443500e+03</td>\n",
       "      <td>1914.590000</td>\n",
       "    </tr>\n",
       "    <tr>\n",
       "      <th>50%</th>\n",
       "      <td>13000.000000</td>\n",
       "      <td>13000.000000</td>\n",
       "      <td>12.990000</td>\n",
       "      <td>6.500000e+04</td>\n",
       "      <td>17.650000</td>\n",
       "      <td>1.187500e+04</td>\n",
       "      <td>4894.950000</td>\n",
       "    </tr>\n",
       "    <tr>\n",
       "      <th>75%</th>\n",
       "      <td>20000.000000</td>\n",
       "      <td>20000.000000</td>\n",
       "      <td>16.200000</td>\n",
       "      <td>9.000000e+04</td>\n",
       "      <td>23.950000</td>\n",
       "      <td>2.082900e+04</td>\n",
       "      <td>10616.844231</td>\n",
       "    </tr>\n",
       "    <tr>\n",
       "      <th>max</th>\n",
       "      <td>35000.000000</td>\n",
       "      <td>35000.000000</td>\n",
       "      <td>28.990000</td>\n",
       "      <td>9.500000e+06</td>\n",
       "      <td>9999.000000</td>\n",
       "      <td>2.904836e+06</td>\n",
       "      <td>57777.579870</td>\n",
       "    </tr>\n",
       "  </tbody>\n",
       "</table>\n",
       "</div>"
      ],
      "text/plain": [
       "           loan_amnt    funded_amnt       int_rate    annual_inc  \\\n",
       "count  887375.000000  887375.000000  887375.000000  8.873750e+05   \n",
       "mean    14755.302719   14741.915678      13.246764  7.502759e+04   \n",
       "std      8435.455353    8429.897444       4.381862  6.469830e+04   \n",
       "min       500.000000     500.000000       5.320000  0.000000e+00   \n",
       "25%      8000.000000    8000.000000       9.990000  4.500000e+04   \n",
       "50%     13000.000000   13000.000000      12.990000  6.500000e+04   \n",
       "75%     20000.000000   20000.000000      16.200000  9.000000e+04   \n",
       "max     35000.000000   35000.000000      28.990000  9.500000e+06   \n",
       "\n",
       "                 dti     revol_bal    total_pymnt  \n",
       "count  887375.000000  8.873750e+05  887375.000000  \n",
       "mean       18.157113  1.692086e+04    7558.828791  \n",
       "std        17.190629  2.242681e+04    7871.260790  \n",
       "min         0.000000  0.000000e+00       0.000000  \n",
       "25%        11.910000  6.443500e+03    1914.590000  \n",
       "50%        17.650000  1.187500e+04    4894.950000  \n",
       "75%        23.950000  2.082900e+04   10616.844231  \n",
       "max      9999.000000  2.904836e+06   57777.579870  "
      ]
     },
     "execution_count": 10,
     "metadata": {},
     "output_type": "execute_result"
    }
   ],
   "source": [
    "df.describe()"
   ]
  },
  {
   "cell_type": "markdown",
   "metadata": {},
   "source": [
    "Note that `dti` has a max of 9999, an average of 18.157 and std dev of 17.191, the maximum value looks like a data anomaly."
   ]
  },
  {
   "cell_type": "code",
   "execution_count": 11,
   "metadata": {},
   "outputs": [
    {
     "data": {
      "text/html": [
       "<div>\n",
       "<style scoped>\n",
       "    .dataframe tbody tr th:only-of-type {\n",
       "        vertical-align: middle;\n",
       "    }\n",
       "\n",
       "    .dataframe tbody tr th {\n",
       "        vertical-align: top;\n",
       "    }\n",
       "\n",
       "    .dataframe thead th {\n",
       "        text-align: right;\n",
       "    }\n",
       "</style>\n",
       "<table border=\"1\" class=\"dataframe\">\n",
       "  <thead>\n",
       "    <tr style=\"text-align: right;\">\n",
       "      <th></th>\n",
       "      <th>loan_amnt</th>\n",
       "      <th>funded_amnt</th>\n",
       "      <th>term</th>\n",
       "      <th>int_rate</th>\n",
       "      <th>grade</th>\n",
       "      <th>annual_inc</th>\n",
       "      <th>issue_d</th>\n",
       "      <th>dti</th>\n",
       "      <th>revol_bal</th>\n",
       "      <th>total_pymnt</th>\n",
       "      <th>loan_status</th>\n",
       "    </tr>\n",
       "  </thead>\n",
       "  <tbody>\n",
       "    <tr>\n",
       "      <th>484446</th>\n",
       "      <td>20000.0</td>\n",
       "      <td>20000.0</td>\n",
       "      <td>36 months</td>\n",
       "      <td>16.99</td>\n",
       "      <td>D</td>\n",
       "      <td>0.0</td>\n",
       "      <td>Dec-2015</td>\n",
       "      <td>9999.0</td>\n",
       "      <td>7161.0</td>\n",
       "      <td>694.08</td>\n",
       "      <td>Current</td>\n",
       "    </tr>\n",
       "    <tr>\n",
       "      <th>531886</th>\n",
       "      <td>3700.0</td>\n",
       "      <td>3700.0</td>\n",
       "      <td>36 months</td>\n",
       "      <td>12.59</td>\n",
       "      <td>C</td>\n",
       "      <td>0.0</td>\n",
       "      <td>Nov-2015</td>\n",
       "      <td>9999.0</td>\n",
       "      <td>10649.0</td>\n",
       "      <td>242.70</td>\n",
       "      <td>Current</td>\n",
       "    </tr>\n",
       "  </tbody>\n",
       "</table>\n",
       "</div>"
      ],
      "text/plain": [
       "        loan_amnt  funded_amnt        term  int_rate grade  annual_inc  \\\n",
       "484446    20000.0      20000.0   36 months     16.99     D         0.0   \n",
       "531886     3700.0       3700.0   36 months     12.59     C         0.0   \n",
       "\n",
       "         issue_d     dti  revol_bal  total_pymnt loan_status  \n",
       "484446  Dec-2015  9999.0     7161.0       694.08     Current  \n",
       "531886  Nov-2015  9999.0    10649.0       242.70     Current  "
      ]
     },
     "execution_count": 11,
     "metadata": {},
     "output_type": "execute_result"
    }
   ],
   "source": [
    "df[df['dti'] == 9999]"
   ]
  },
  {
   "cell_type": "markdown",
   "metadata": {},
   "source": [
    "It seems that the reason the `dti` is 9999 is because `annual_inc` is 0, since we have only two anomolous values, we throw them out."
   ]
  },
  {
   "cell_type": "code",
   "execution_count": 12,
   "metadata": {},
   "outputs": [],
   "source": [
    "df = df[df['dti'] != 9999]"
   ]
  },
  {
   "cell_type": "code",
   "execution_count": 13,
   "metadata": {},
   "outputs": [
    {
     "name": "stdout",
     "output_type": "stream",
     "text": [
      "\n",
      "Level counts for column: term\n",
      " 36 months    621119\n",
      " 60 months    266254\n",
      "Name: term, dtype: int64\n",
      "\n",
      "Level counts for column: grade\n",
      "B    254535\n",
      "C    245859\n",
      "A    148198\n",
      "D    139541\n",
      "E     70705\n",
      "F     23046\n",
      "G      5489\n",
      "Name: grade, dtype: int64\n",
      "\n",
      "Level counts for column: issue_d\n",
      "Oct-2015    48631\n",
      "Jul-2015    45962\n",
      "Dec-2015    44341\n",
      "Oct-2014    38782\n",
      "Nov-2015    37529\n",
      "Aug-2015    35886\n",
      "Apr-2015    35427\n",
      "Jan-2015    35107\n",
      "May-2015    31913\n",
      "Jul-2014    29306\n",
      "Sep-2015    28641\n",
      "Jun-2015    28485\n",
      "Mar-2015    25400\n",
      "Nov-2014    25054\n",
      "Feb-2015    23770\n",
      "May-2014    19099\n",
      "Apr-2014    19071\n",
      "Aug-2014    18814\n",
      "Jun-2014    17179\n",
      "Mar-2014    16513\n",
      "Jan-2014    15628\n",
      "Feb-2014    15269\n",
      "Dec-2013    15020\n",
      "Nov-2013    14676\n",
      "Oct-2013    14114\n",
      "Sep-2013    12987\n",
      "Aug-2013    12674\n",
      "Jul-2013    11910\n",
      "Jun-2013    10899\n",
      "Sep-2014    10606\n",
      "            ...  \n",
      "Dec-2009      658\n",
      "Oct-2009      604\n",
      "Sep-2009      507\n",
      "Aug-2009      446\n",
      "Jul-2009      411\n",
      "Jun-2009      406\n",
      "Mar-2008      402\n",
      "May-2009      359\n",
      "Apr-2009      333\n",
      "Mar-2009      324\n",
      "Feb-2008      306\n",
      "Jan-2008      305\n",
      "Feb-2009      302\n",
      "Jan-2009      269\n",
      "Apr-2008      259\n",
      "Dec-2008      253\n",
      "Nov-2008      209\n",
      "Dec-2007      172\n",
      "Jul-2008      141\n",
      "Jun-2008      124\n",
      "Oct-2008      122\n",
      "May-2008      115\n",
      "Nov-2007      112\n",
      "Oct-2007      105\n",
      "Aug-2008      100\n",
      "Aug-2007       72\n",
      "Jul-2007       62\n",
      "Sep-2008       57\n",
      "Sep-2007       53\n",
      "Jun-2007       23\n",
      "Name: issue_d, Length: 103, dtype: int64\n",
      "\n",
      "Level counts for column: loan_status\n",
      "Current                                                601777\n",
      "Fully Paid                                             207723\n",
      "Charged Off                                             45248\n",
      "Late (31-120 days)                                      11591\n",
      "Issued                                                   8460\n",
      "In Grace Period                                          6253\n",
      "Late (16-30 days)                                        2357\n",
      "Does not meet the credit policy. Status:Fully Paid       1984\n",
      "Default                                                  1219\n",
      "Does not meet the credit policy. Status:Charged Off       761\n",
      "Name: loan_status, dtype: int64\n"
     ]
    }
   ],
   "source": [
    "for col in categorical_cols:\n",
    "    print('\\nLevel counts for column:', col)\n",
    "    print(df[col].value_counts())"
   ]
  },
  {
   "cell_type": "code",
   "execution_count": 14,
   "metadata": {},
   "outputs": [
    {
     "data": {
      "image/png": "[encoded data removed]",
      "text/plain": [
       "<matplotlib.figure.Figure at 0x159a65898>"
      ]
     },
     "metadata": {},
     "output_type": "display_data"
    },
    {
     "data": {
      "image/png": "[encoded data removed]",
      "text/plain": [
       "<matplotlib.figure.Figure at 0x159a65128>"
      ]
     },
     "metadata": {},
     "output_type": "display_data"
    },
    {
     "data": {
      "image/png": "[encoded data removed]",
      "text/plain": [
       "<matplotlib.figure.Figure at 0x158701c50>"
      ]
     },
     "metadata": {},
     "output_type": "display_data"
    },
    {
     "data": {
      "image/png": "[encoded data removed]",
      "text/plain": [
       "<matplotlib.figure.Figure at 0x158852c18>"
      ]
     },
     "metadata": {},
     "output_type": "display_data"
    },
    {
     "data": {
      "image/png": "[encoded data removed]",
      "text/plain": [
       "<matplotlib.figure.Figure at 0x107213198>"
      ]
     },
     "metadata": {},
     "output_type": "display_data"
    },
    {
     "data": {
      "image/png": "[encoded data removed]",
      "text/plain": [
       "<matplotlib.figure.Figure at 0x10be9a160>"
      ]
     },
     "metadata": {},
     "output_type": "display_data"
    },
    {
     "data": {
      "image/png": "[encoded data removed]",
      "text/plain": [
       "<matplotlib.figure.Figure at 0x10dd16518>"
      ]
     },
     "metadata": {},
     "output_type": "display_data"
    }
   ],
   "source": [
    "for col in numerical_cols:\n",
    "    plt.hist(df[col], bins = 'auto', facecolor='black', alpha=1.0)\n",
    "    plt.xlabel('Value')\n",
    "    plt.ylabel('Count')\n",
    "    plt.title('Histogram of column: ' + col)\n",
    "    plt.grid(True)\n",
    "    plt.show()"
   ]
  },
  {
   "cell_type": "markdown",
   "metadata": {},
   "source": [
    "# Analysis"
   ]
  },
  {
   "cell_type": "markdown",
   "metadata": {},
   "source": [
    "__1. What percentage of loans have been fully paid?__"
   ]
  },
  {
   "cell_type": "code",
   "execution_count": 15,
   "metadata": {},
   "outputs": [
    {
     "data": {
      "text/plain": [
       "23.632339500976478"
      ]
     },
     "execution_count": 15,
     "metadata": {},
     "output_type": "execute_result"
    }
   ],
   "source": [
    "# We use str.contains to include loans that did not meet the credit policy but were fully paid\n",
    "(df['loan_status'].str.contains('Fully Paid')).sum() / len(df) * 100"
   ]
  },
  {
   "cell_type": "markdown",
   "metadata": {},
   "source": [
    "_Around 23.6% of loans have been fully paid_"
   ]
  },
  {
   "cell_type": "markdown",
   "metadata": {},
   "source": [
    "__2. When bucketed by year of origination and grade, which cohort has the highest rate of defaults? Here you may\n",
    "assume that any loan which was not fully paid had “defaulted”.__"
   ]
  },
  {
   "cell_type": "code",
   "execution_count": 16,
   "metadata": {},
   "outputs": [
    {
     "name": "stderr",
     "output_type": "stream",
     "text": [
      "/Users/nabs/Envs/data_science/lib/python3.6/site-packages/ipykernel_launcher.py:4: UserWarning: Boolean Series key will be reindexed to match DataFrame index.\n",
      "  after removing the cwd from sys.path.\n"
     ]
    },
    {
     "data": {
      "text/html": [
       "<div>\n",
       "<style scoped>\n",
       "    .dataframe tbody tr th:only-of-type {\n",
       "        vertical-align: middle;\n",
       "    }\n",
       "\n",
       "    .dataframe tbody tr th {\n",
       "        vertical-align: top;\n",
       "    }\n",
       "\n",
       "    .dataframe thead th {\n",
       "        text-align: right;\n",
       "    }\n",
       "</style>\n",
       "<table border=\"1\" class=\"dataframe\">\n",
       "  <thead>\n",
       "    <tr style=\"text-align: right;\">\n",
       "      <th></th>\n",
       "      <th>issue_d</th>\n",
       "      <th>grade</th>\n",
       "      <th>default_rate</th>\n",
       "    </tr>\n",
       "  </thead>\n",
       "  <tbody>\n",
       "    <tr>\n",
       "      <th>525</th>\n",
       "      <td>Aug-2015</td>\n",
       "      <td>C</td>\n",
       "      <td>0.999901</td>\n",
       "    </tr>\n",
       "    <tr>\n",
       "      <th>2439</th>\n",
       "      <td>May-2015</td>\n",
       "      <td>A</td>\n",
       "      <td>0.999831</td>\n",
       "    </tr>\n",
       "    <tr>\n",
       "      <th>1908</th>\n",
       "      <td>Jun-2015</td>\n",
       "      <td>A</td>\n",
       "      <td>0.999803</td>\n",
       "    </tr>\n",
       "    <tr>\n",
       "      <th>2941</th>\n",
       "      <td>Oct-2013</td>\n",
       "      <td>B</td>\n",
       "      <td>0.999787</td>\n",
       "    </tr>\n",
       "    <tr>\n",
       "      <th>2176</th>\n",
       "      <td>Mar-2015</td>\n",
       "      <td>A</td>\n",
       "      <td>0.999764</td>\n",
       "    </tr>\n",
       "  </tbody>\n",
       "</table>\n",
       "</div>"
      ],
      "text/plain": [
       "       issue_d grade  default_rate\n",
       "525   Aug-2015     C      0.999901\n",
       "2439  May-2015     A      0.999831\n",
       "1908  Jun-2015     A      0.999803\n",
       "2941  Oct-2013     B      0.999787\n",
       "2176  Mar-2015     A      0.999764"
      ]
     },
     "execution_count": 16,
     "metadata": {},
     "output_type": "execute_result"
    }
   ],
   "source": [
    "loan_count_df = df[['issue_d', 'grade', 'loan_status']] \\\n",
    "    .groupby(['issue_d', 'grade', 'loan_status']) \\\n",
    "    .size().reset_index().rename(columns = {0:'loan_count'})\n",
    "total_loan_count_df = loan_count_df.groupby(['issue_d', 'grade'])['loan_count'].sum().reset_index() \\\n",
    "    .rename(columns = {'loan_count':'total_loan_count'})\n",
    "loan_status_df = pd.merge(loan_count_df, total_loan_count_df)\n",
    "loan_status_df = loan_status_df[df['loan_status'].str.contains('Fully Paid')] \\\n",
    "    .drop('loan_status', axis = 1)\n",
    "loan_status_df['default_rate'] = 1 - (loan_status_df['loan_count'] / loan_status_df['total_loan_count'])\n",
    "loan_status_df = loan_status_df.drop(['loan_count', 'total_loan_count'], axis = 1) \\\n",
    "    .sort_values(by = 'default_rate', ascending = False)\n",
    "loan_status_df.head()"
   ]
  },
  {
   "cell_type": "markdown",
   "metadata": {},
   "source": [
    "_The cohort with the highest rate of default `1 - (# of fully paid loans / # of total loans)` is Aug 2015 grade C loans_"
   ]
  },
  {
   "cell_type": "markdown",
   "metadata": {},
   "source": [
    "__3. When bucketed by year of origination and grade, what annualized rate of return have these loans generated on\n",
    "average?__"
   ]
  },
  {
   "cell_type": "code",
   "execution_count": 17,
   "metadata": {},
   "outputs": [
    {
     "data": {
      "text/html": [
       "<div>\n",
       "<style scoped>\n",
       "    .dataframe tbody tr th:only-of-type {\n",
       "        vertical-align: middle;\n",
       "    }\n",
       "\n",
       "    .dataframe tbody tr th {\n",
       "        vertical-align: top;\n",
       "    }\n",
       "\n",
       "    .dataframe thead th {\n",
       "        text-align: right;\n",
       "    }\n",
       "</style>\n",
       "<table border=\"1\" class=\"dataframe\">\n",
       "  <thead>\n",
       "    <tr style=\"text-align: right;\">\n",
       "      <th></th>\n",
       "      <th>issue_d</th>\n",
       "      <th>grade</th>\n",
       "      <th>aror</th>\n",
       "    </tr>\n",
       "  </thead>\n",
       "  <tbody>\n",
       "    <tr>\n",
       "      <th>114</th>\n",
       "      <td>Aug-2015</td>\n",
       "      <td>C</td>\n",
       "      <td>-0.467379</td>\n",
       "    </tr>\n",
       "  </tbody>\n",
       "</table>\n",
       "</div>"
      ],
      "text/plain": [
       "      issue_d grade      aror\n",
       "114  Aug-2015     C -0.467379"
      ]
     },
     "execution_count": 17,
     "metadata": {},
     "output_type": "execute_result"
    }
   ],
   "source": [
    "df['aror'] = df.apply(lambda x: (x['total_pymnt'] / x['funded_amnt']) ** (1/3) - 1, axis = 1)\n",
    "ror_df = df.groupby(['issue_d', 'grade'])['aror'].mean().reset_index() \\\n",
    "    .sort_values(by = 'aror', ascending = False)\n",
    "ror_df[(ror_df['issue_d'] == 'Aug-2015') & (ror_df['grade'] == 'C')]"
   ]
  },
  {
   "cell_type": "markdown",
   "metadata": {},
   "source": [
    "_The cohort with the highest rate of defaults had an unsurprising low annualized rate of return of -46.74%_"
   ]
  },
  {
   "cell_type": "markdown",
   "metadata": {},
   "source": [
    "# Modeling"
   ]
  },
  {
   "cell_type": "markdown",
   "metadata": {},
   "source": [
    "__Please build a logistic regression model to predict loan defaults (as defined in question 2 above) that could help us avoid investing in such loans. Assume that (i) you are given the ability to invest in each loan independently; (ii) you invest immediately following loan origination and hold to maturity (36 months); and (iii) all loan fields that would be known upon origination are made available to you.\n",
    "Was the model effective? Explain how you validated your model and describe how you measure the performance of the model.__"
   ]
  },
  {
   "cell_type": "code",
   "execution_count": 18,
   "metadata": {},
   "outputs": [],
   "source": [
    "# Prep the dataset by including only 36 month loans and excluding some variables\n",
    "X = df[df['term'] == ' 36 months']\n",
    "y = X['loan_status'].str.contains('Fully Paid') == False\n",
    "X = X.drop(['aror', 'loan_status', 'term', 'issue_d'], axis = 1)\n",
    "X = pd.get_dummies(X, prefix = 'grade_')"
   ]
  },
  {
   "cell_type": "code",
   "execution_count": 19,
   "metadata": {},
   "outputs": [
    {
     "name": "stdout",
     "output_type": "stream",
     "text": [
      "Train data size:  465839\n",
      "Test data size:  155280\n"
     ]
    },
    {
     "data": {
      "text/html": [
       "<div>\n",
       "<style scoped>\n",
       "    .dataframe tbody tr th:only-of-type {\n",
       "        vertical-align: middle;\n",
       "    }\n",
       "\n",
       "    .dataframe tbody tr th {\n",
       "        vertical-align: top;\n",
       "    }\n",
       "\n",
       "    .dataframe thead th {\n",
       "        text-align: right;\n",
       "    }\n",
       "</style>\n",
       "<table border=\"1\" class=\"dataframe\">\n",
       "  <thead>\n",
       "    <tr style=\"text-align: right;\">\n",
       "      <th></th>\n",
       "      <th>loan_amnt</th>\n",
       "      <th>funded_amnt</th>\n",
       "      <th>int_rate</th>\n",
       "      <th>annual_inc</th>\n",
       "      <th>dti</th>\n",
       "      <th>revol_bal</th>\n",
       "      <th>total_pymnt</th>\n",
       "      <th>grade__A</th>\n",
       "      <th>grade__B</th>\n",
       "      <th>grade__C</th>\n",
       "      <th>grade__D</th>\n",
       "      <th>grade__E</th>\n",
       "      <th>grade__F</th>\n",
       "      <th>grade__G</th>\n",
       "    </tr>\n",
       "  </thead>\n",
       "  <tbody>\n",
       "    <tr>\n",
       "      <th>381464</th>\n",
       "      <td>5000.0</td>\n",
       "      <td>5000.0</td>\n",
       "      <td>15.61</td>\n",
       "      <td>29000.0</td>\n",
       "      <td>23.68</td>\n",
       "      <td>11001.0</td>\n",
       "      <td>3149.320000</td>\n",
       "      <td>0</td>\n",
       "      <td>0</td>\n",
       "      <td>0</td>\n",
       "      <td>1</td>\n",
       "      <td>0</td>\n",
       "      <td>0</td>\n",
       "      <td>0</td>\n",
       "    </tr>\n",
       "    <tr>\n",
       "      <th>160087</th>\n",
       "      <td>10625.0</td>\n",
       "      <td>10625.0</td>\n",
       "      <td>15.80</td>\n",
       "      <td>30992.0</td>\n",
       "      <td>20.64</td>\n",
       "      <td>17364.0</td>\n",
       "      <td>12089.658477</td>\n",
       "      <td>0</td>\n",
       "      <td>0</td>\n",
       "      <td>1</td>\n",
       "      <td>0</td>\n",
       "      <td>0</td>\n",
       "      <td>0</td>\n",
       "      <td>0</td>\n",
       "    </tr>\n",
       "    <tr>\n",
       "      <th>693809</th>\n",
       "      <td>6500.0</td>\n",
       "      <td>6500.0</td>\n",
       "      <td>5.32</td>\n",
       "      <td>120000.0</td>\n",
       "      <td>22.43</td>\n",
       "      <td>4901.0</td>\n",
       "      <td>1170.660000</td>\n",
       "      <td>1</td>\n",
       "      <td>0</td>\n",
       "      <td>0</td>\n",
       "      <td>0</td>\n",
       "      <td>0</td>\n",
       "      <td>0</td>\n",
       "      <td>0</td>\n",
       "    </tr>\n",
       "    <tr>\n",
       "      <th>480548</th>\n",
       "      <td>8000.0</td>\n",
       "      <td>8000.0</td>\n",
       "      <td>11.22</td>\n",
       "      <td>35000.0</td>\n",
       "      <td>19.47</td>\n",
       "      <td>3393.0</td>\n",
       "      <td>0.000000</td>\n",
       "      <td>0</td>\n",
       "      <td>1</td>\n",
       "      <td>0</td>\n",
       "      <td>0</td>\n",
       "      <td>0</td>\n",
       "      <td>0</td>\n",
       "      <td>0</td>\n",
       "    </tr>\n",
       "    <tr>\n",
       "      <th>224742</th>\n",
       "      <td>19275.0</td>\n",
       "      <td>19275.0</td>\n",
       "      <td>7.90</td>\n",
       "      <td>48000.0</td>\n",
       "      <td>24.28</td>\n",
       "      <td>23949.0</td>\n",
       "      <td>21714.897361</td>\n",
       "      <td>1</td>\n",
       "      <td>0</td>\n",
       "      <td>0</td>\n",
       "      <td>0</td>\n",
       "      <td>0</td>\n",
       "      <td>0</td>\n",
       "      <td>0</td>\n",
       "    </tr>\n",
       "  </tbody>\n",
       "</table>\n",
       "</div>"
      ],
      "text/plain": [
       "        loan_amnt  funded_amnt  int_rate  annual_inc    dti  revol_bal  \\\n",
       "381464     5000.0       5000.0     15.61     29000.0  23.68    11001.0   \n",
       "160087    10625.0      10625.0     15.80     30992.0  20.64    17364.0   \n",
       "693809     6500.0       6500.0      5.32    120000.0  22.43     4901.0   \n",
       "480548     8000.0       8000.0     11.22     35000.0  19.47     3393.0   \n",
       "224742    19275.0      19275.0      7.90     48000.0  24.28    23949.0   \n",
       "\n",
       "         total_pymnt  grade__A  grade__B  grade__C  grade__D  grade__E  \\\n",
       "381464   3149.320000         0         0         0         1         0   \n",
       "160087  12089.658477         0         0         1         0         0   \n",
       "693809   1170.660000         1         0         0         0         0   \n",
       "480548      0.000000         0         1         0         0         0   \n",
       "224742  21714.897361         1         0         0         0         0   \n",
       "\n",
       "        grade__F  grade__G  \n",
       "381464         0         0  \n",
       "160087         0         0  \n",
       "693809         0         0  \n",
       "480548         0         0  \n",
       "224742         0         0  "
      ]
     },
     "execution_count": 19,
     "metadata": {},
     "output_type": "execute_result"
    }
   ],
   "source": [
    "# Set a hold-out test set aside\n",
    "X_train, X_test, y_train, y_test = train_test_split(X, y)\n",
    "print('Train data size: ', len(X_train))\n",
    "print('Test data size: ', len(X_test))\n",
    "X_train.head()"
   ]
  },
  {
   "cell_type": "code",
   "execution_count": 24,
   "metadata": {},
   "outputs": [
    {
     "data": {
      "text/plain": [
       "0.96427099433281815"
      ]
     },
     "execution_count": 24,
     "metadata": {},
     "output_type": "execute_result"
    }
   ],
   "source": [
    "clf = LogisticRegression()\n",
    "clf.fit(X_train, y_train)\n",
    "clf.score(X_test, y_test)"
   ]
  },
  {
   "cell_type": "code",
   "execution_count": 25,
   "metadata": {
    "scrolled": true
   },
   "outputs": [
    {
     "name": "stdout",
     "output_type": "stream",
     "text": [
      "             precision    recall  f1-score   support\n",
      "\n",
      "      False       0.90      0.98      0.94     42414\n",
      "       True       0.99      0.96      0.97    112866\n",
      "\n",
      "avg / total       0.97      0.96      0.96    155280\n",
      "\n"
     ]
    }
   ],
   "source": [
    "print(classification_report(y_test, clf.predict(X_test)))"
   ]
  },
  {
   "cell_type": "markdown",
   "metadata": {},
   "source": [
    "__Overall, the model looks to be quite effective with an F1 score of 0.96 on the hold out test set__\n",
    "\n",
    "Next we calculate how much profit would have been captured if this model had been used for investing decision support."
   ]
  },
  {
   "cell_type": "code",
   "execution_count": 42,
   "metadata": {},
   "outputs": [
    {
     "name": "stdout",
     "output_type": "stream",
     "text": [
      "Total return: 70500894.4099\n",
      "Return on Investment: 12.9318573429 %\n",
      "Standard deviation of return: 1439.83061165\n",
      "Worst investment return: -1460.04\n",
      "Best investment return: 13742.1498612\n"
     ]
    }
   ],
   "source": [
    "test_profit_df = X_test.copy()\n",
    "test_profit_df['prediction'] = clf.predict(X_test)\n",
    "test_profit_df = test_profit_df[test_profit_df['prediction'] == False] # False means that the loan did not default\n",
    "transactions_df = test_profit_df['total_pymnt'] - test_profit_df['funded_amnt']\n",
    "print('Total return:', transactions_df.sum())\n",
    "print('Return on Investment:', transactions_df.sum() / test_profit_df['funded_amnt'].sum() * 100, '%')\n",
    "print('Standard deviation of return:', transactions_df.std())\n",
    "print('Worst investment return:', transactions_df.min())\n",
    "print('Best investment return:', transactions_df.max())"
   ]
  },
  {
   "cell_type": "markdown",
   "metadata": {},
   "source": [
    "__At a ~13% ROI on a hold-out test set, the model looks to pick winning loans to invest in__"
   ]
  }
 ],
 "metadata": {
  "kernelspec": {
   "display_name": "data-science",
   "language": "python",
   "name": "data-science"
  },
  "language_info": {
   "codemirror_mode": {
    "name": "ipython",
    "version": 3
   },
   "file_extension": ".py",
   "mimetype": "text/x-python",
   "name": "python",
   "nbconvert_exporter": "python",
   "pygments_lexer": "ipython3",
   "version": "3.6.3"
  }
 },
 "nbformat": 4,
 "nbformat_minor": 2
}
